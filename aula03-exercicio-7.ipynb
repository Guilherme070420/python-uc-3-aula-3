{
 "cells": [
  {
   "cell_type": "code",
   "execution_count": null,
   "metadata": {},
   "outputs": [],
   "source": [
    "termos = int(input('informe quantos termos deseja'))\n",
    "def fibonacci(termos):\n",
    "    lista = []\n",
    "a, b = 0, 1\n",
    "while len(lista) < termos:\n",
    "    lista.append(a)\n",
    "    a, b = b, a+b\n",
    "print(lista)\n",
    "\n",
    "fibonacci(termos)"
   ]
  }
 ],
 "metadata": {
  "kernelspec": {
   "display_name": "Python 3.10.5 64-bit",
   "language": "python",
   "name": "python3"
  },
  "language_info": {
   "name": "python",
   "version": "3.10.5"
  },
  "orig_nbformat": 4,
  "vscode": {
   "interpreter": {
    "hash": "369f2c481f4da34e4445cda3fffd2e751bd1c4d706f27375911949ba6bb62e1c"
   }
  }
 },
 "nbformat": 4,
 "nbformat_minor": 2
}
