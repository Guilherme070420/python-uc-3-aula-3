{
 "cells": [
  {
   "cell_type": "code",
   "execution_count": null,
   "metadata": {},
   "outputs": [],
   "source": [
    "menu=['1. Lista','2. Produto', '3. sair']\n",
    "\n",
    "def contador_menu(menu):\n",
    "    \n",
    "\n",
    "opção = int(input('informe uma opção'))\n",
    "contador = 0\n",
    "\n",
    "while True:\n",
    "    print(menu)\n",
    "    opção = int (input('informe uma opção'))\n",
    "    if opção == 3:\n",
    "        print(contador)\n",
    "    break\n",
    "else:\n"
   ]
  }
 ],
 "metadata": {
  "language_info": {
   "name": "python"
  },
  "orig_nbformat": 4
 },
 "nbformat": 4,
 "nbformat_minor": 2
}
