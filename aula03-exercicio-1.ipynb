{
 "cells": [
  {
   "cell_type": "code",
   "execution_count": null,
   "metadata": {},
   "outputs": [],
   "source": [
    "inicial = int(input('informe o valor inicial:'))\n",
    "final = int(input('informe o valor final:'))\n",
    "\n",
    "def imprimir(inicial,final):\n",
    "\n",
    "    for numeros in  range(inicial,final+1):\n",
    "        print(f'{numeros}')\n",
    "\n",
    "imprimir(inicial,final)\n",
    "\n"
   ]
  }
 ],
 "metadata": {
  "kernelspec": {
   "display_name": "Python 3.10.5 64-bit",
   "language": "python",
   "name": "python3"
  },
  "language_info": {
   "name": "python",
   "version": "3.10.5"
  },
  "orig_nbformat": 4,
  "vscode": {
   "interpreter": {
    "hash": "369f2c481f4da34e4445cda3fffd2e751bd1c4d706f27375911949ba6bb62e1c"
   }
  }
 },
 "nbformat": 4,
 "nbformat_minor": 2
}
